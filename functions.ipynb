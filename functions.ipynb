{
 "cells": [
  {
   "cell_type": "markdown",
   "id": "82f83fd2-0338-46f7-ae56-530468baace7",
   "metadata": {},
   "source": [
    "# Parameter Passing in Python"
   ]
  },
  {
   "cell_type": "code",
   "execution_count": 2,
   "id": "9e78c629-7256-4409-8a5c-14871cdc76d7",
   "metadata": {},
   "outputs": [
    {
     "data": {
      "text/plain": [
       "4356188592"
      ]
     },
     "execution_count": 2,
     "metadata": {},
     "output_type": "execute_result"
    }
   ],
   "source": [
    "x = 5 #5 is the object, x name is point to 4356188592 where object is 5\n",
    "id(x)"
   ]
  },
  {
   "cell_type": "code",
   "execution_count": 3,
   "id": "b580eba8-4a11-4cc3-b24e-1505dddc5e42",
   "metadata": {},
   "outputs": [
    {
     "data": {
      "text/plain": [
       "4356188752"
      ]
     },
     "execution_count": 3,
     "metadata": {},
     "output_type": "execute_result"
    }
   ],
   "source": [
    "y = 10 #10 is the object, y name is pointing to 4356188752 where object is 10\n",
    "id(y)"
   ]
  },
  {
   "cell_type": "code",
   "execution_count": 4,
   "id": "e9d614b7-bacb-4643-b167-a487be40752d",
   "metadata": {},
   "outputs": [
    {
     "data": {
      "text/plain": [
       "4356188592"
      ]
     },
     "execution_count": 4,
     "metadata": {},
     "output_type": "execute_result"
    }
   ],
   "source": [
    "z = x # Now z name is bind or point to 4356188592 where object is 5\n",
    "id(z)"
   ]
  },
  {
   "cell_type": "code",
   "execution_count": 5,
   "id": "df1918e6-12f3-4143-bbaa-47835218b0d5",
   "metadata": {},
   "outputs": [
    {
     "data": {
      "text/plain": [
       "4356188752"
      ]
     },
     "execution_count": 5,
     "metadata": {},
     "output_type": "execute_result"
    }
   ],
   "source": [
    "x = y # Now x name is pointing or binding to 4356188752 where object is 10\n",
    "id(x)"
   ]
  },
  {
   "cell_type": "code",
   "execution_count": 6,
   "id": "bd4102e0-c915-499a-b0e1-bddf02f8761f",
   "metadata": {},
   "outputs": [
    {
     "name": "stdout",
     "output_type": "stream",
     "text": [
      "10 10 5\n"
     ]
    }
   ],
   "source": [
    "print(x, y, z) # We have three names (x, y, z) but we have two objects 5 and 10 "
   ]
  },
  {
   "cell_type": "code",
   "execution_count": 14,
   "id": "9291d40e-63fd-4da9-b94e-9956b3982218",
   "metadata": {},
   "outputs": [
    {
     "name": "stdout",
     "output_type": "stream",
     "text": [
      "4400994816\n",
      "[1, 2, 3]\n"
     ]
    }
   ],
   "source": [
    "# Another example of parameter passing\n",
    "\n",
    "my_list = [1,2,3] # list is mutable object\n",
    "print(id(my_list)) # my_list is bind to \n",
    "print(my_list)"
   ]
  },
  {
   "cell_type": "code",
   "execution_count": 15,
   "id": "8dd1302c-3486-454d-ac0c-944a4182f6c5",
   "metadata": {},
   "outputs": [],
   "source": [
    "def my_func(a):\n",
    "    a.append(4)\n",
    "    a=[5,6]# It will not reflect to \n",
    "    "
   ]
  },
  {
   "cell_type": "code",
   "execution_count": 16,
   "id": "287ce6d5-67d4-477a-90ab-687b222772f3",
   "metadata": {},
   "outputs": [],
   "source": [
    "my_func(my_list)"
   ]
  },
  {
   "cell_type": "code",
   "execution_count": 17,
   "id": "cd02f75b-c80c-42b6-a560-f5229592526d",
   "metadata": {},
   "outputs": [
    {
     "name": "stdout",
     "output_type": "stream",
     "text": [
      "4400994816\n",
      "[1, 2, 3, 4]\n"
     ]
    }
   ],
   "source": [
    "print(id(my_list)) # my_list is bind to 4400924608\n",
    "print(my_list)"
   ]
  },
  {
   "cell_type": "code",
   "execution_count": null,
   "id": "d429ed68-f843-4025-9c4e-bda8b4aff729",
   "metadata": {},
   "outputs": [],
   "source": []
  },
  {
   "cell_type": "code",
   "execution_count": null,
   "id": "1743d187-b4f3-43b9-83a7-f89d15b6efab",
   "metadata": {},
   "outputs": [],
   "source": []
  }
 ],
 "metadata": {
  "kernelspec": {
   "display_name": "Python [conda env:adsml] *",
   "language": "python",
   "name": "conda-env-adsml-py"
  },
  "language_info": {
   "codemirror_mode": {
    "name": "ipython",
    "version": 3
   },
   "file_extension": ".py",
   "mimetype": "text/x-python",
   "name": "python",
   "nbconvert_exporter": "python",
   "pygments_lexer": "ipython3",
   "version": "3.9.7"
  }
 },
 "nbformat": 4,
 "nbformat_minor": 5
}
