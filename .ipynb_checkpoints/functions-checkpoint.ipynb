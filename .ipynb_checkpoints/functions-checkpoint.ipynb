{
 "cells": [
  {
   "cell_type": "markdown",
   "id": "82f83fd2-0338-46f7-ae56-530468baace7",
   "metadata": {},
   "source": [
    "# Parameter Passing in Python"
   ]
  },
  {
   "cell_type": "code",
   "execution_count": 5,
   "id": "9e78c629-7256-4409-8a5c-14871cdc76d7",
   "metadata": {},
   "outputs": [
    {
     "data": {
      "text/plain": [
       "4385642928"
      ]
     },
     "execution_count": 5,
     "metadata": {},
     "output_type": "execute_result"
    }
   ],
   "source": [
    "x = 5 #5 is the object, x name is point to 4356188592 where object is 5\n",
    "id(x)"
   ]
  },
  {
   "cell_type": "code",
   "execution_count": 6,
   "id": "b580eba8-4a11-4cc3-b24e-1505dddc5e42",
   "metadata": {},
   "outputs": [
    {
     "data": {
      "text/plain": [
       "4385643088"
      ]
     },
     "execution_count": 6,
     "metadata": {},
     "output_type": "execute_result"
    }
   ],
   "source": [
    "y = 10 #10 is the object, y name is pointing to 4356188752 where object is 10\n",
    "id(y)"
   ]
  },
  {
   "cell_type": "code",
   "execution_count": 7,
   "id": "e9d614b7-bacb-4643-b167-a487be40752d",
   "metadata": {},
   "outputs": [
    {
     "data": {
      "text/plain": [
       "4385642928"
      ]
     },
     "execution_count": 7,
     "metadata": {},
     "output_type": "execute_result"
    }
   ],
   "source": [
    "z = x # Now z name is bind or point to 4356188592 where object is 5\n",
    "id(z)"
   ]
  },
  {
   "cell_type": "code",
   "execution_count": 8,
   "id": "df1918e6-12f3-4143-bbaa-47835218b0d5",
   "metadata": {},
   "outputs": [
    {
     "data": {
      "text/plain": [
       "4385643088"
      ]
     },
     "execution_count": 8,
     "metadata": {},
     "output_type": "execute_result"
    }
   ],
   "source": [
    "x = y # Now x name is pointing or binding to 4356188752 where object is 10\n",
    "id(x)"
   ]
  },
  {
   "cell_type": "code",
   "execution_count": 9,
   "id": "bd4102e0-c915-499a-b0e1-bddf02f8761f",
   "metadata": {},
   "outputs": [
    {
     "name": "stdout",
     "output_type": "stream",
     "text": [
      "10 10 5\n"
     ]
    }
   ],
   "source": [
    "print(x, y, z) # We have three names (x, y, z) but we have two objects 5 and 10 "
   ]
  },
  {
   "cell_type": "code",
   "execution_count": 10,
   "id": "9291d40e-63fd-4da9-b94e-9956b3982218",
   "metadata": {},
   "outputs": [
    {
     "name": "stdout",
     "output_type": "stream",
     "text": [
      "4430166912\n",
      "[1, 2, 3]\n"
     ]
    }
   ],
   "source": [
    "# Another example of parameter passing\n",
    "\n",
    "my_list = [1,2,3] # list is mutable object\n",
    "print(id(my_list)) # my_list is bind to \n",
    "print(my_list)"
   ]
  },
  {
   "cell_type": "code",
   "execution_count": 11,
   "id": "8dd1302c-3486-454d-ac0c-944a4182f6c5",
   "metadata": {},
   "outputs": [],
   "source": [
    "def my_func(a):\n",
    "    a.append(4)\n",
    "    a=[5,6]# It will not reflect to \n",
    "    "
   ]
  },
  {
   "cell_type": "code",
   "execution_count": 12,
   "id": "287ce6d5-67d4-477a-90ab-687b222772f3",
   "metadata": {},
   "outputs": [],
   "source": [
    "my_func(my_list)"
   ]
  },
  {
   "cell_type": "code",
   "execution_count": 13,
   "id": "cd02f75b-c80c-42b6-a560-f5229592526d",
   "metadata": {},
   "outputs": [
    {
     "name": "stdout",
     "output_type": "stream",
     "text": [
      "4430166912\n",
      "[1, 2, 3, 4]\n"
     ]
    }
   ],
   "source": [
    "print(id(my_list)) # my_list is bind to 4400924608\n",
    "print(my_list)"
   ]
  },
  {
   "cell_type": "markdown",
   "id": "f2f3aea1-7364-44c7-9843-f6c6b741ba7e",
   "metadata": {},
   "source": [
    "## Functions"
   ]
  },
  {
   "cell_type": "code",
   "execution_count": 14,
   "id": "1743d187-b4f3-43b9-83a7-f89d15b6efab",
   "metadata": {},
   "outputs": [],
   "source": [
    "def add(a, b): # a and b are parameters to the function\n",
    "    return a + b"
   ]
  },
  {
   "cell_type": "code",
   "execution_count": 15,
   "id": "f8e3f945-b576-4e6d-b2c0-66fac78ef0dd",
   "metadata": {},
   "outputs": [
    {
     "data": {
      "text/plain": [
       "3"
      ]
     },
     "execution_count": 15,
     "metadata": {},
     "output_type": "execute_result"
    }
   ],
   "source": [
    "add(1,2) # 1 and 2 are arguments, more precisely positional arguments"
   ]
  },
  {
   "cell_type": "code",
   "execution_count": 16,
   "id": "c87321c5-b393-4b3d-99f0-36f460368673",
   "metadata": {},
   "outputs": [],
   "source": [
    "def cutoff(limit, *vals): # *val is variable length arguments\n",
    "    for val in vals:\n",
    "        if val < limit:\n",
    "            print(val)"
   ]
  },
  {
   "cell_type": "code",
   "execution_count": 17,
   "id": "f7d0c082-9862-411a-887b-06f5955c2ee6",
   "metadata": {},
   "outputs": [
    {
     "name": "stdout",
     "output_type": "stream",
     "text": [
      "1\n",
      "2\n",
      "3\n"
     ]
    }
   ],
   "source": [
    "cutoff(4, 1, 2, 3, 4, 5)"
   ]
  },
  {
   "cell_type": "markdown",
   "id": "a894be3d-c970-4eb8-a278-06063c0f0fff",
   "metadata": {},
   "source": [
    "### Local variables\n",
    "\n",
    "Variables that are defined inside a function are known as local local variables, and they can be\n",
    "accessed only inside the function."
   ]
  },
  {
   "cell_type": "code",
   "execution_count": 18,
   "id": "bc6e88f0-301e-4e26-94d4-acf4e9c882c1",
   "metadata": {},
   "outputs": [],
   "source": [
    "def add(a, b): \n",
    "    y = a + b #y is local variable. y could be accessed within the variable\n",
    "    return y"
   ]
  },
  {
   "cell_type": "code",
   "execution_count": 19,
   "id": "6a8c7ee4-c678-4aa9-925b-c4149e680e86",
   "metadata": {},
   "outputs": [
    {
     "name": "stdout",
     "output_type": "stream",
     "text": [
      "7\n"
     ]
    }
   ],
   "source": [
    "z = add(3,4) # return value of y is binded to z\n",
    "print(z) # You cannot use print(y) that will reflect the error"
   ]
  },
  {
   "cell_type": "markdown",
   "id": "3a478e2e-8bcd-4695-90c3-b1f89c6cad48",
   "metadata": {},
   "source": [
    "### Global variable\n",
    "\n",
    "The global global variables that are not defined in any functions. These variables can be accessed from anywhere in the program. While\n",
    "possible, it is considered generally bad form to access a global variable inside a function."
   ]
  },
  {
   "cell_type": "code",
   "execution_count": 21,
   "id": "0a4d08a9-81a2-4b39-9256-a9b616999067",
   "metadata": {},
   "outputs": [
    {
     "data": {
      "text/plain": [
       "8"
      ]
     },
     "execution_count": 21,
     "metadata": {},
     "output_type": "execute_result"
    }
   ],
   "source": [
    "power = 3 # power is defined outside the function\n",
    "\n",
    "def powerof(x):\n",
    "    y = x ** power\n",
    "    return y\n",
    "\n",
    "powerof(2)"
   ]
  },
  {
   "cell_type": "code",
   "execution_count": 22,
   "id": "796f59c3-2107-462f-af17-945729e8245b",
   "metadata": {},
   "outputs": [
    {
     "data": {
      "text/plain": [
       "8"
      ]
     },
     "execution_count": 22,
     "metadata": {},
     "output_type": "execute_result"
    }
   ],
   "source": [
    "# Better version\n",
    "\n",
    "def powerof(x, p):\n",
    "    y = x ** p\n",
    "    return y\n",
    "\n",
    "powerof(2,3)"
   ]
  },
  {
   "cell_type": "code",
   "execution_count": null,
   "id": "b17a6d0c-37d8-4528-bb94-84a2b6007331",
   "metadata": {},
   "outputs": [],
   "source": []
  }
 ],
 "metadata": {
  "kernelspec": {
   "display_name": "Python [conda env:adsml] *",
   "language": "python",
   "name": "conda-env-adsml-py"
  },
  "language_info": {
   "codemirror_mode": {
    "name": "ipython",
    "version": 3
   },
   "file_extension": ".py",
   "mimetype": "text/x-python",
   "name": "python",
   "nbconvert_exporter": "python",
   "pygments_lexer": "ipython3",
   "version": "3.9.7"
  }
 },
 "nbformat": 4,
 "nbformat_minor": 5
}
